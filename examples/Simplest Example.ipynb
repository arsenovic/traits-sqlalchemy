{
 "metadata": {
  "name": "",
  "signature": "sha256:b7c4374e49e81f928d0033ca0af930c2360d9fa594c969ea207bbab9134529c5"
 },
 "nbformat": 3,
 "nbformat_minor": 0,
 "worksheets": [
  {
   "cells": [
    {
     "cell_type": "heading",
     "level": 1,
     "metadata": {},
     "source": [
      "Simplest Example"
     ]
    },
    {
     "cell_type": "heading",
     "level": 2,
     "metadata": {},
     "source": [
      "Intro"
     ]
    },
    {
     "cell_type": "markdown",
     "metadata": {},
     "source": [
      "[traits-sqlalchemy](https://github.com/arsenovic/traits-sqlalchemy) provides utilities for mapping [HasTraits](https://github.com/enthought/traits) classes to a relational database using\n",
      "[SQLAlchemy](http://www.sqlalchemy.org). This example demonstrates using traits-sqlalchemy to create a simple, one-table mapping with a `HasDBTraits` class.  \n",
      "\n"
     ]
    },
    {
     "cell_type": "code",
     "collapsed": false,
     "input": [
      "import sqlalchemy as sql\n",
      "from sqlalchemy import orm\n",
      "import traitsql as tsql\n",
      "from traits.api import TraitError"
     ],
     "language": "python",
     "metadata": {},
     "outputs": [],
     "prompt_number": 163
    },
    {
     "cell_type": "heading",
     "level": 2,
     "metadata": {},
     "source": [
      "Create  Schema"
     ]
    },
    {
     "cell_type": "code",
     "collapsed": false,
     "input": [
      "metadata = sql.MetaData()\n",
      "foo = sql.Table('foo', metadata,\n",
      "                sql.Column('id', sql.Integer, primary_key=True),\n",
      "                sql.Column('int', sql.Integer),\n",
      "                sql.Column('float', sql.Float),\n",
      "                sql.Column('string', sql.String(16), unique = True))\n",
      "    "
     ],
     "language": "python",
     "metadata": {},
     "outputs": [],
     "prompt_number": 164
    },
    {
     "cell_type": "heading",
     "level": 2,
     "metadata": {},
     "source": [
      "Create The Class"
     ]
    },
    {
     "cell_type": "code",
     "collapsed": false,
     "input": [
      "class Foo(tsql.HasDBTraits):\n",
      "    id = tsql.DBIntKey\n",
      "    int = tsql.DBInt\n",
      "    float = tsql.DBFloat\n",
      "    string = tsql.DBStr\n",
      "    \n",
      "    def __repr__(self):\n",
      "        return 'Foo(id=%i, int=%i, float=%f, string=%s)'%(\n",
      "                self.id, self.int, self.float, self.string)\n",
      "\n",
      "  "
     ],
     "language": "python",
     "metadata": {},
     "outputs": [],
     "prompt_number": 152
    },
    {
     "cell_type": "heading",
     "level": 2,
     "metadata": {},
     "source": [
      "Map it!"
     ]
    },
    {
     "cell_type": "code",
     "collapsed": false,
     "input": [
      "orm.mapper(Foo, foo)"
     ],
     "language": "python",
     "metadata": {},
     "outputs": [
      {
       "metadata": {},
       "output_type": "pyout",
       "prompt_number": 153,
       "text": [
        "<Mapper at 0x7f69b70f8f50; Foo>"
       ]
      }
     ],
     "prompt_number": 153
    },
    {
     "cell_type": "heading",
     "level": 2,
     "metadata": {},
     "source": [
      "Test it "
     ]
    },
    {
     "cell_type": "heading",
     "level": 3,
     "metadata": {},
     "source": [
      "Connecting"
     ]
    },
    {
     "cell_type": "markdown",
     "metadata": {},
     "source": [
      "* Create the engine and bind it to our metadata. \n",
      "* Create a connection to  the database. \n",
      "* Create a Session"
     ]
    },
    {
     "cell_type": "code",
     "collapsed": false,
     "input": [
      "db = sql.create_engine('sqlite:///:memory:')\n",
      "metadata.bind = db\n",
      "metadata.create_all()\n",
      "conn = db.connect()\n",
      "session = orm.sessionmaker()()"
     ],
     "language": "python",
     "metadata": {},
     "outputs": [],
     "prompt_number": 154
    },
    {
     "cell_type": "heading",
     "level": 3,
     "metadata": {},
     "source": [
      "Instantiate a class and commit it "
     ]
    },
    {
     "cell_type": "code",
     "collapsed": false,
     "input": [
      "session.add(Foo(int=10, float=20.0, string='foo'))\n",
      "session.commit()\n",
      "foo = session.query(Foo).first()\n",
      "foo"
     ],
     "language": "python",
     "metadata": {},
     "outputs": [
      {
       "metadata": {},
       "output_type": "pyout",
       "prompt_number": 155,
       "text": [
        "Foo(id=1, int=10, float=20.000000, string=foo)"
       ]
      }
     ],
     "prompt_number": 155
    },
    {
     "cell_type": "heading",
     "level": 3,
     "metadata": {},
     "source": [
      "Traits does it's validation as expected "
     ]
    },
    {
     "cell_type": "code",
     "collapsed": false,
     "input": [
      "try:\n",
      "    foo.int ='int'\n",
      "except(TraitError) as e:\n",
      "    print(e)"
     ],
     "language": "python",
     "metadata": {},
     "outputs": [
      {
       "output_type": "stream",
       "stream": "stdout",
       "text": [
        "The 'int' trait of a Foo instance must be an integer (int or long) or None, but a value of 'int' <type 'str'> was specified.\n"
       ]
      }
     ],
     "prompt_number": 156
    },
    {
     "cell_type": "heading",
     "level": 3,
     "metadata": {},
     "source": [
      "Edit existing entries values and commit"
     ]
    },
    {
     "cell_type": "code",
     "collapsed": false,
     "input": [
      "foo.int = 12\n",
      "session.commit()\n",
      "session.query(Foo).first()"
     ],
     "language": "python",
     "metadata": {},
     "outputs": [
      {
       "metadata": {},
       "output_type": "pyout",
       "prompt_number": 157,
       "text": [
        "Foo(id=1, int=12, float=20.000000, string=foo)"
       ]
      }
     ],
     "prompt_number": 157
    },
    {
     "cell_type": "code",
     "collapsed": false,
     "input": [
      "session.add(Foo(int=11, float=20.0, string='dank'))\n",
      "session.add(Foo(int=12, float=40.0, string='stank'))\n",
      "session.add(Foo(int=13, float=30.0, string='wank'))\n",
      "session.add(Foo(int=14, float=10.0, string='pank'))\n",
      "session.commit()"
     ],
     "language": "python",
     "metadata": {},
     "outputs": [],
     "prompt_number": 158
    },
    {
     "cell_type": "code",
     "collapsed": false,
     "input": [
      "q = session.query(Foo)\n",
      "q.all()"
     ],
     "language": "python",
     "metadata": {},
     "outputs": [
      {
       "metadata": {},
       "output_type": "pyout",
       "prompt_number": 159,
       "text": [
        "[Foo(id=1, int=12, float=20.000000, string=foo),\n",
        " Foo(id=2, int=11, float=20.000000, string=dank),\n",
        " Foo(id=3, int=12, float=40.000000, string=stank),\n",
        " Foo(id=4, int=13, float=30.000000, string=wank),\n",
        " Foo(id=5, int=14, float=10.000000, string=pank)]"
       ]
      }
     ],
     "prompt_number": 159
    },
    {
     "cell_type": "code",
     "collapsed": false,
     "input": [
      "session.add(Foo(int=14, float=10.0, string='pank'))\n",
      "\n",
      "try: \n",
      "    session.commit()\n",
      "except(sql.exc.IntegrityError) as e:\n",
      "    print(e)"
     ],
     "language": "python",
     "metadata": {},
     "outputs": [
      {
       "output_type": "stream",
       "stream": "stdout",
       "text": [
        "(IntegrityError) UNIQUE constraint failed: foo.string u'INSERT INTO foo (int, float, string) VALUES (?, ?, ?)' (14, 10.0, 'pank')\n"
       ]
      }
     ],
     "prompt_number": 160
    },
    {
     "cell_type": "heading",
     "level": 3,
     "metadata": {},
     "source": [
      "Close connection "
     ]
    },
    {
     "cell_type": "code",
     "collapsed": false,
     "input": [
      "conn.close()\n",
      "metadata.bind = None"
     ],
     "language": "python",
     "metadata": {},
     "outputs": [],
     "prompt_number": 161
    }
   ],
   "metadata": {}
  }
 ]
}