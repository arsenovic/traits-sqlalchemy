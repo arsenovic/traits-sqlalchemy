{
 "metadata": {
  "name": "",
  "signature": "sha256:916aa933dc4d5c0a4b9c84071334a51e857d695272d905fa412306a0d71c3f05"
 },
 "nbformat": 3,
 "nbformat_minor": 0,
 "worksheets": [
  {
   "cells": [
    {
     "cell_type": "markdown",
     "metadata": {},
     "source": [
      "[Simplest Example](Simplest Example.ipynb)"
     ]
    }
   ],
   "metadata": {}
  }
 ]
}